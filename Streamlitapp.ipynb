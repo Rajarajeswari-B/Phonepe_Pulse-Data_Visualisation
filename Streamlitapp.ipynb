# Install dependencies required for the project
!pip install streamlit pandas plotly pyngrok pillow --quiet

# ----------------- Write the Streamlit app -----------------
app_code = """
import sqlite3
import pandas as pd
import streamlit as st
from PIL import Image
import plotly.express as px

# Set page layout and title
st.set_page_config(layout="wide", page_title="PhonePe Pulse Dashboard")

# App title and description
st.title("PhonePe Pulse Dashboard")
st.markdown("Explore transactions, users, payment types, and insights across India")

# ----------------- Database Connection -----------------
# Connect to SQLite database (make sure phonepe_data.db is available)
conn = sqlite3.connect("phonepe_data.db")
cursor = conn.cursor()

# ----------------- Tabs for Navigation -----------------
tab1, tab2, tab3 = st.tabs(["Explore Data", "Insights", "About"])

# ----------------- Tab 1: Data Exploration -----------------
with tab1:
    # Input selectors for filtering
    col1, col2, col3 = st.columns(3)
    selectbox = col1.selectbox("Type", ("Transactions", "Users"))
    year_selectbox = col2.selectbox("Year", ("2018","2019","2020","2021","2022","2023"))
    quarter_selectbox = col3.selectbox("Quarter", ("1", "2", "3", "4"))
    a = int(year_selectbox)
    b = int(quarter_selectbox)

    # ----------------- Transactions Section -----------------
    if selectbox == "Transactions":
        # Query summary transaction data
        cursor.execute(f"SELECT SUM(Transaction_count), ROUND(SUM(Transaction_amount)), ROUND(SUM(Transaction_amount)/SUM(Transaction_count)) FROM aggregated_transaction WHERE year=? AND quarter=?", (a,b))
        out = cursor.fetchone()

        # Display metrics
        st.success(f"Transactions value : {out[0]:.2f}")
        st.info(f"Payment value : {out[1]:.2f}")
        st.success(f"Average Transactions value : {out[2]:.2f}")

        # ----------------- Choropleth Map: State-wise Transactions -----------------
        cursor.execute(f"SELECT state, SUM(Transaction_amount) FROM aggregated_transaction WHERE year=? AND quarter=? GROUP BY state", (a,b))
        out = cursor.fetchall()
        df = pd.DataFrame(out, columns=["state","Transactions"])

        # State name mapping (required to match GeoJSON format)
        state_map = {
            "andaman-&-nicobar-islands":"Andaman & Nicobar",
            "andhra-pradesh":"Andhra Pradesh",
            "arunachal-pradesh":"Arunachal Pradesh",
            "assam":"Assam",
            "bihar":"Bihar",
            "chandigarh":"Chandigarh",
            "chhattisgarh":"Chhattisgarh",
            "dadra-&-nagar-haveli-&-daman-&-diu":"Dadra and Nagar Haveli and Daman and Diu",
            "delhi":"Delhi",
            "goa":"Goa",
            "gujarat":"Gujarat",
            "haryana":"Haryana",
            "himachal-pradesh":"Himachal Pradesh",
            "jammu-&-kashmir":"Jammu & Kashmir",
            "jharkhand":"Jharkhand",
            "karnataka":"Karnataka",
            "kerala":"Kerala",
            "ladakh":"Ladakh",
            "lakshadweep":"Lakshadweep",
            "madhya-pradesh":"Madhya Pradesh",
            "maharashtra":"Maharashtra",
            "manipur":"Manipur",
            "meghalaya":"Meghalaya",
            "mizoram":"Mizoram",
            "nagaland":"Nagaland",
            "odisha":"Odisha",
            "puducherry":"Puducherry",
            "punjab":"Punjab",
            "rajasthan":"Rajasthan",
            "sikkim":"Sikkim",
            "tamil-nadu":"Tamil Nadu",
            "telangana":"Telangana",
            "tripura":"Tripura",
            "uttar-pradesh":"Uttar Pradesh",
            "uttarakhand":"Uttarakhand",
            "west-bengal":"West Bengal",
        }
        df["state"] = df["state"].map(state_map)

        # Create choropleth map
        fig = px.choropleth(
            df,
            geojson="https://gist.githubusercontent.com/jbrobst/56c13bbbf9d97d187fea01ca62ea5112/raw/e388c4cae20aa53cb5090210a42ebb9b765c0a36/india_states.geojson",
            featureidkey='properties.ST_NM',
            locations='state',
            color='Transactions',
            color_continuous_scale='Blues'
        )
        fig.update_geos(fitbounds="locations", visible=False)
        col1.plotly_chart(fig)

        # ----------------- Payment Type Pie Chart -----------------
        cursor.execute(f"SELECT Transaction_type, ROUND(SUM(Transaction_amount)) FROM aggregated_transaction WHERE year=? AND quarter=? GROUP BY Transaction_type", (a,b))
        out = cursor.fetchall()
        df_pie = pd.DataFrame(out, columns=["PaymentType","Amount"])
        fig1 = px.pie(df_pie, values="Amount", names="PaymentType", color_discrete_sequence=px.colors.sequential.RdBu,
                      title=f"Payment Type Distribution ({a} Q{b})")
        fig1.update_traces(textposition='inside', textinfo='percent+label')
        col2.plotly_chart(fig1)

    # ----------------- Users Section -----------------
    elif(selectbox=="Users"):
        # Query user data
        cursor.execute(f"SELECT SUM(Transaction_count), AVG(Percentage) FROM aggregated_user WHERE Year=? AND Quarter=?", (a,b))
        out = cursor.fetchone()

        # Display metrics
        st.success(f"Total Users (counted as Transactions): {out[0]:,.0f}")
        st.info(f"Average Percentage: {out[1]:.2f}%")

        # ----------------- Choropleth Map: Users -----------------
        cursor.execute(f"SELECT State, SUM(Transaction_count) FROM aggregated_user WHERE Year=? AND Quarter=? GROUP BY State", (a,b))
        out = cursor.fetchall()
        df_users = pd.DataFrame(out, columns=["State", "Users"])
        fig_users = px.choropleth(
            df_users,
            geojson="https://gist.githubusercontent.com/jbrobst/56c13bbbf9d97d187fea01ca62ea5112/raw/e388c4cae20aa53cb5090210a42ebb9b765c0a36/india_states.geojson",
            featureidkey='properties.ST_NM',
            locations='State',
            color='Users',
            color_continuous_scale='Purples',
            title=f"Users Distribution ({a} Q{b})"
        )
        fig_users.update_geos(fitbounds="locations", visible=False)
        st.plotly_chart(fig_users)

# ----------------- Tab 2: Insights -----------------
with tab2:
    st.subheader("Some Interesting Facts About PhonePe")

    # Dropdown for predefined insights
    questions = st.selectbox("Questions: ", ["Please select one",
        "The year which has the most no of Transactions?",
        "The most prominent paymenttype of Phonepe across years"])

    # ----------------- Insight 1: Year with most transactions -----------------
    if questions == "The year which has the most no of Transactions?":
        cursor.execute("SELECT year, SUM(Transaction_count) FROM aggregated_transaction GROUP BY year")
        out = cursor.fetchall()
        df = pd.DataFrame(out, columns=["Year","Transactions"])
        df["Year"] = df["Year"].astype(str)
        fig = px.bar(df, x="Year", y="Transactions", color="Transactions")
        st.plotly_chart(fig)

    # ----------------- Insight 2: Most prominent payment type -----------------
    elif questions == "The most prominent paymenttype of Phonepe across years":
        cursor.execute("SELECT Transaction_type, SUM(Transaction_amount) FROM aggregated_transaction GROUP BY Transaction_type")
        out = cursor.fetchall()
        df = pd.DataFrame(out, columns=["PaymentType","TotalAmount"])
        fig = px.bar(df, x="PaymentType", y="TotalAmount", color="TotalAmount",
                     title="Total Transaction Amount by Payment Type Across Years")
        st.plotly_chart(fig)

    # ----------------- Insight 3: Top Quarter -----------------
    elif questions == "The Quarter which tops the transaction list very often across years":
        cursor.execute("select Quarter, sum(Transaction_count) from aggregated_transaction group by Quarter")
        out=mycursor.fetchall()
        df=pd.DataFrame(out,columns=["Quarter","Transactions"])
        df["quarter"]=df["quarter"].astype(str)
        fig=px.bar(df,x="Quarter",y="Transactions",color=df["Transactions"])
        st.plotly_chart(fig)
        st.success("Third Quarter Tops the Chart with far margin")
"""

# ----------------- Write app code to app.py -----------------
with open("app.py", "w") as f:
    f.write(app_code)

# ----------------- Run Streamlit app in Colab using ngrok -----------------
from pyngrok import ngrok
import os
import subprocess
import time

# Kill any existing tunnels to avoid conflicts
ngrok.kill()

# Start Streamlit app in the background
subprocess.Popen(["streamlit", "run", "app.py", "--server.port", "8501"])

# Wait a few seconds for server to start
time.sleep(5)

# Create ngrok tunnel for external access
try:
    public_url = ngrok.connect(8501)
    print(f"Streamlit public URL: {public_url}")
except Exception as e:
    print(f"Error starting ngrok tunnel: {e}")
